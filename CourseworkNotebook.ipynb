{
 "cells": [
  {
   "cell_type": "markdown",
   "metadata": {},
   "source": [
    "# Intro to AI - Coursework\n",
    "Joshua Luke Boddy - aczc760\n",
    "\n",
    "Saeed Almansoori - "
   ]
  },
  {
   "cell_type": "markdown",
   "metadata": {},
   "source": [
    "### To-Do\n",
    "- Functions to prepare each column of the dataset we need\n",
    "- Decide on learning model (Multivariate regression?)\n",
    "- Research integer value return (Possible with Regression)\n",
    "\n",
    "## Data Preparation\n",
    "\n",
    "Taking a CSV file as our data set, the data needs to be converted across from CSV to something program readable as well as formatting the data into a readable format for our model (undecided).\n",
    "\n",
    "Columns needing data conversion:\n",
    "- Manufacturer Name -> Categorical\n",
    "- Model Name -> Categorical\n",
    "- Transmission -> Categorical\n",
    "- Color -> Categorical\n",
    "- Engine Fuel -> Categorical\n",
    "- Engine Has Gas -> Boolean\n",
    "- Engine Type -> Categorical\n",
    "- Body Type -> Categorical\n",
    "- Has Warranty -> Boolean\n",
    "- State -> Categorical\n",
    "- Drivetrain -> Categorical\n",
    "\n",
    "Extra Useable Columns\n",
    "- Odometer Value -> Int\n",
    "- Year Produced -> Int\n",
    "- Engine Capacity -> Float\n",
    "\n",
    "Data Labels\n",
    "- Price USD -> Float"
   ]
  },
  {
   "cell_type": "markdown",
   "metadata": {},
   "source": [
    "## Importing Required Libraries\n",
    "\n",
    "The libraries below are required for the whole project and are imported at the start to maintain tidiness in the code, as well as make them usable throughout the notebook in later cells"
   ]
  },
  {
   "cell_type": "code",
   "execution_count": 3,
   "metadata": {},
   "outputs": [],
   "source": [
    "import pandas as pd\n",
    "import numpy as np"
   ]
  },
  {
   "cell_type": "markdown",
   "metadata": {},
   "source": [
    "## Importing the Data Set from CSV\n",
    "\n",
    "Reading the CSV file in to a data structure is simple using the pandas library as it has a built-in `read_csv` function that converts the data automatically (better than the alternative `with open(FILENAME, 'r') as file` option)"
   ]
  },
  {
   "cell_type": "code",
   "execution_count": 53,
   "metadata": {},
   "outputs": [
    {
     "name": "stdout",
     "output_type": "stream",
     "text": [
      "manufacturer_name     object\n",
      "model_name            object\n",
      "transmission          object\n",
      "color                 object\n",
      "odometer_value         int64\n",
      "year_produced          int64\n",
      "engine_fuel           object\n",
      "engine_has_gas          bool\n",
      "engine_type           object\n",
      "engine_capacity      float64\n",
      "body_type             object\n",
      "has_warranty            bool\n",
      "state                 object\n",
      "drivetrain            object\n",
      "dtype: object\n"
     ]
    }
   ],
   "source": [
    "columnList = [\n",
    "    'manufacturer_name',\n",
    "    'model_name',\n",
    "    'transmission',\n",
    "    'color',\n",
    "    'engine_fuel',\n",
    "    'engine_has_gas',\n",
    "    'engine_type',\n",
    "    'body_type',\n",
    "    'has_warranty',\n",
    "    'state',\n",
    "    'drivetrain',\n",
    "    'odometer_value',\n",
    "    'year_produced',\n",
    "    'engine_capacity'\n",
    "]\n",
    "\n",
    "data = pd.read_csv('./cars.csv', usecols=columnList)\n",
    "print(data.dtypes)"
   ]
  },
  {
   "cell_type": "markdown",
   "metadata": {},
   "source": [
    "## Preparation Functions for Each Column\n",
    "\n",
    "Each column needs to be converted to a numerical data type so that it is readable by the neural network, this is done for each column below, however as opposed to writing functions for each column, we can determine what type the column is at the moment and write functions for each of those types respectively"
   ]
  },
  {
   "cell_type": "code",
   "execution_count": 54,
   "metadata": {},
   "outputs": [],
   "source": [
    "# Convert From Object\n",
    "def convertFromObject(column):\n",
    "    # This one liner takes a categorical column\n",
    "    # and assigns a value to each value in the column\n",
    "    # then returns the new column as a list of ints\n",
    "    return column.astype('category').cat.codes\n",
    "\n",
    "# Convert From Boolean\n",
    "def convertFromBoolean(column):\n",
    "    # Simply convert from boolean to integer\n",
    "    # where 0 is False and 1 is True\n",
    "    return column.astype(int)\n",
    "\n",
    "# Prepare Column function for each column\n",
    "# This contains the appropriate function for\n",
    "# each column in the dataset to run by\n",
    "# checking their data types\n",
    "def prepare_column(dtype, column):\n",
    "    if dtype == np.object:\n",
    "        return convertFromObject(column)\n",
    "    elif dtype == np.bool:\n",
    "        return convertFromBoolean(column)\n",
    "    elif dtype == np.int or dtype == np.float:\n",
    "        return column\n",
    "    else:\n",
    "        raise Exception(\"Data Type for Current Column %s not specified\" % (column.dtype))\n",
    "\n",
    "# The overall preparation function\n",
    "# This will prepare every column in the dataset\n",
    "# to be read by the neural network\n",
    "def prepare_dataset(dataset):\n",
    "    for column in dataset.columns:\n",
    "        dataset[column] = prepare_column(dataset[column].dtype, dataset[column])\n",
    "    return dataset"
   ]
  },
  {
   "cell_type": "markdown",
   "metadata": {},
   "source": [
    "## Using the Functions to Prepare the Data\n",
    "\n",
    "Below we are applying the functions defined in the previous section to our dataset to make it readable by the neural network. This is important as mathematical operations later won't be able to be performed on the data if it is not in readable format, and as such the network will not function at all!"
   ]
  },
  {
   "cell_type": "code",
   "execution_count": 55,
   "metadata": {},
   "outputs": [
    {
     "name": "stdout",
     "output_type": "stream",
     "text": [
      "Currently Preparing Type for object\n",
      "Currently Preparing Type for object\n",
      "Currently Preparing Type for object\n",
      "Currently Preparing Type for object\n",
      "Currently Preparing Type for int64\n",
      "Currently Preparing Type for int64\n",
      "Currently Preparing Type for object\n",
      "Currently Preparing Type for bool\n",
      "Currently Preparing Type for object\n",
      "Currently Preparing Type for float64\n",
      "Currently Preparing Type for object\n",
      "Currently Preparing Type for bool\n",
      "Currently Preparing Type for object\n",
      "Currently Preparing Type for object\n"
     ]
    }
   ],
   "source": [
    "data = prepare_dataset(data)"
   ]
  },
  {
   "cell_type": "markdown",
   "metadata": {},
   "source": [
    "## Model Implementation\n",
    "TBD when we confirm whether we can use multivariate regression or not"
   ]
  },
  {
   "cell_type": "code",
   "execution_count": null,
   "metadata": {},
   "outputs": [],
   "source": []
  },
  {
   "cell_type": "markdown",
   "metadata": {},
   "source": [
    "## Class and Constructor Implementation¶\n"
   ]
  },
  {
   "cell_type": "code",
   "execution_count": null,
   "metadata": {},
   "outputs": [],
   "source": [
    "class NeuralNetwork():\n",
    "    \n",
    "        def __init__(self):\n",
    "         \n",
    "            w1 = np.random.uniform(-1,1, 14, 17) \n",
    "            b1 = np.random.uniform(-1,1, 14)\n",
    "            w2 = np.random.uniform(-1,1, 17, 21) \n",
    "            b2 = np.random.uniform(-1,1, 17)\n",
    "            w3 = np.random.uniform(-1,1, 21) \n",
    "            b3 = np.random.uniform(-1,1, 21)\n",
    "            \n",
    "            \n",
    "        @staticmethod   \n",
    "        def sigmoid(x, derivative = False):\n",
    "            if derivative:\n",
    "                return ((1/(1+np.exp(-x))) * (1 - 1/(1+np.exp(-x))))\n",
    "            return 1/(1+np.exp(-x))\n",
    "        \n",
    "        @staticmethod \n",
    "        def softmax(y, derivative = False):\n",
    "        exps = np.exp(x - x.max())\n",
    "        if derivative:\n",
    "            return exps / np.sum(exps, axis=0) * (1 - exps / np.sum(exps, axis=0))\n",
    "        return exps / np.sum(exps, axis=0)"
   ]
  }
 ],
 "metadata": {
  "kernelspec": {
   "display_name": "Python 3",
   "language": "python",
   "name": "python3"
  },
  "language_info": {
   "codemirror_mode": {
    "name": "ipython",
    "version": 3
   },
   "file_extension": ".py",
   "mimetype": "text/x-python",
   "name": "python",
   "nbconvert_exporter": "python",
   "pygments_lexer": "ipython3",
   "version": "3.8.3"
  }
 },
 "nbformat": 4,
 "nbformat_minor": 4
}
